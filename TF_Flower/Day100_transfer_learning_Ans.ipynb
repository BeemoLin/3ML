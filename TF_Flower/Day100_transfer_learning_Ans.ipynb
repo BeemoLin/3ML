{
 "cells": [
  {
   "cell_type": "code",
   "execution_count": 1,
   "metadata": {},
   "outputs": [],
   "source": [
    "# TensorFlow and tf.keras\n",
    "import tensorflow as tf\n",
    "from tensorflow import keras\n",
    "\n",
    "# Helper libraries\n",
    "import matplotlib.pyplot as plt\n",
    "import numpy as np\n",
    "from os import listdir\n",
    "from os.path import join\n",
    "import cv2\n",
    "import pandas\n",
    "import os\n",
    "import random"
   ]
  },
  {
   "cell_type": "code",
   "execution_count": 2,
   "metadata": {},
   "outputs": [
    {
     "name": "stdout",
     "output_type": "stream",
     "text": [
      "['daisy', 'rose', 'tulip', 'dandelion', 'sunflower']\n",
      "train (2823, 32, 32, 3)\n",
      "labels (2823,)\n",
      "x_train (1891, 32, 32, 3)\n",
      "x_valid (932, 32, 32, 3)\n",
      "y_train (1891,)\n",
      "y_valid (932,)\n",
      "x_Train[0].shape: (32, 32, 3)\n",
      "y_Train[0]: 3\n"
     ]
    },
    {
     "data": {
      "image/png": "[encoded data removed]",
      "text/plain": [
       "<Figure size 144x144 with 1 Axes>"
      ]
     },
     "metadata": {
      "needs_background": "light"
     },
     "output_type": "display_data"
    },
    {
     "name": "stdout",
     "output_type": "stream",
     "text": [
      "[0. 0. 0. 1. 0.]\n",
      "[0. 0. 1. 0. 0.]\n"
     ]
    },
    {
     "name": "stderr",
     "output_type": "stream",
     "text": [
      "Using TensorFlow backend.\n"
     ]
    }
   ],
   "source": [
    "# Set the path of the input folder \n",
    "\n",
    "data = \"./image_data/train/\"\n",
    "\n",
    "# List out the directories inside the main input folder\n",
    "\n",
    "folders = os.listdir(data)\n",
    "\n",
    "print(folders)\n",
    "\n",
    "# Import the images and resize them to a 128*128 size\n",
    "# Also generate the corresponding labels\n",
    "\n",
    "image_names = []\n",
    "train_labels = []\n",
    "train_images = []\n",
    "\n",
    "size = 32, 32\n",
    "\n",
    "for folder in folders:\n",
    "    for file in os.listdir(os.path.join(data,folder)):\n",
    "        if file.endswith(\"jpg\"):\n",
    "            image_names.append(os.path.join(data,folder,file))\n",
    "            train_labels.append(folder)\n",
    "            img = cv2.imread(os.path.join(data,folder,file))\n",
    "            im = cv2.resize(img,size)\n",
    "            train_images.append(im)\n",
    "        else:\n",
    "            continue\n",
    "\n",
    "# Transform the image array to a numpy type\n",
    "\n",
    "train = np.array(train_images)\n",
    "\n",
    "train.shape\n",
    "\n",
    "# Reduce the RGB values between 0 and 1\n",
    "\n",
    "train = train.astype('float32') / 255.0\n",
    "\n",
    "# Extract the labels\n",
    "\n",
    "label_dummies = pandas.get_dummies(train_labels)\n",
    "\n",
    "labels = label_dummies.values.argmax(1)\n",
    "\n",
    "pandas.unique(train_labels)\n",
    "pandas.unique(labels)\n",
    "\n",
    "# Shuffle the labels and images randomly for better results\n",
    "\n",
    "union_list = list(zip(train, labels))\n",
    "random.shuffle(union_list)\n",
    "train,labels = zip(*union_list)\n",
    "\n",
    "# Convert the shuffled list to numpy array type\n",
    "\n",
    "train = np.array(train)\n",
    "labels = np.array(labels)\n",
    "print(\"train\", train.shape)\n",
    "print(\"labels\", labels.shape)\n",
    "\n",
    "from sklearn.model_selection import train_test_split\n",
    "\n",
    "# Split the data\n",
    "x_train, x_valid, y_train, y_valid = train_test_split(train, labels, test_size=0.33, shuffle= True)\n",
    "\n",
    "print(\"x_train\", x_train.shape)\n",
    "print(\"x_valid\", x_valid.shape)\n",
    "\n",
    "print(\"y_train\", y_train.shape)\n",
    "print(\"y_valid\", y_valid.shape)\n",
    "\n",
    "\n",
    "import matplotlib.pyplot as plt\n",
    "def plot_image(image):\n",
    "    fig = plt.gcf()\n",
    "    fig.set_size_inches(2, 2)\n",
    "    plt.imshow(image, cmap='binary')\n",
    "    plt.show()\n",
    "    \n",
    "# 由於圖片通常是RGB三個顏色所組成的，假設圖片大小是28*28的彩色圖片，實際上的資料維度就是28*28*3。\n",
    "# 不過這邊數字的顏色都是單色因此我們轉成28*28*1的資料維度當作未來CNN Model的input\n",
    "print(\"x_Train[0].shape:\", x_train[0].shape)\n",
    "print(\"y_Train[0]:\", y_train[0])\n",
    "plot_image(x_train[0])\n",
    "\n",
    "# 把類別做Onehot encoding\n",
    "from keras.utils import np_utils\n",
    "y_TrainOneHot = np_utils.to_categorical(y_train)\n",
    "y_TestOneHot = np_utils.to_categorical(y_valid)\n",
    "\n",
    "# 看來有10種類型的 解答 0 to 9\n",
    "print(y_TrainOneHot[0])\n",
    "print(y_TestOneHot[0])"
   ]
  },
  {
   "cell_type": "markdown",
   "metadata": {},
   "source": [
    "## 建立CNN模型"
   ]
  },
  {
   "cell_type": "code",
   "execution_count": 3,
   "metadata": {},
   "outputs": [
    {
     "name": "stdout",
     "output_type": "stream",
     "text": [
      "Model: \"sequential_1\"\n",
      "_________________________________________________________________\n",
      "Layer (type)                 Output Shape              Param #   \n",
      "=================================================================\n",
      "conv2d_1 (Conv2D)            (None, 32, 32, 16)        1216      \n",
      "_________________________________________________________________\n",
      "max_pooling2d_1 (MaxPooling2 (None, 16, 16, 16)        0         \n",
      "_________________________________________________________________\n",
      "conv2d_2 (Conv2D)            (None, 16, 16, 36)        14436     \n",
      "_________________________________________________________________\n",
      "max_pooling2d_2 (MaxPooling2 (None, 8, 8, 36)          0         \n",
      "_________________________________________________________________\n",
      "dropout_1 (Dropout)          (None, 8, 8, 36)          0         \n",
      "_________________________________________________________________\n",
      "flatten_1 (Flatten)          (None, 2304)              0         \n",
      "_________________________________________________________________\n",
      "dense_1 (Dense)              (None, 128)               295040    \n",
      "_________________________________________________________________\n",
      "dropout_2 (Dropout)          (None, 128)               0         \n",
      "_________________________________________________________________\n",
      "dense_2 (Dense)              (None, 5)                 645       \n",
      "=================================================================\n",
      "Total params: 311,337\n",
      "Trainable params: 311,337\n",
      "Non-trainable params: 0\n",
      "_________________________________________________________________\n",
      "None\n",
      "Train on 1512 samples, validate on 379 samples\n",
      "Epoch 1/10\n",
      " - 1s - loss: 1.6063 - accuracy: 0.2553 - val_loss: 1.5508 - val_accuracy: 0.3404\n",
      "Epoch 2/10\n",
      " - 1s - loss: 1.5178 - accuracy: 0.3426 - val_loss: 1.5021 - val_accuracy: 0.3008\n",
      "Epoch 3/10\n",
      " - 1s - loss: 1.4385 - accuracy: 0.3710 - val_loss: 1.3662 - val_accuracy: 0.3958\n",
      "Epoch 4/10\n",
      " - 1s - loss: 1.3281 - accuracy: 0.4517 - val_loss: 1.2958 - val_accuracy: 0.4327\n",
      "Epoch 5/10\n",
      " - 1s - loss: 1.2715 - accuracy: 0.4590 - val_loss: 1.2656 - val_accuracy: 0.4354\n",
      "Epoch 6/10\n",
      " - 1s - loss: 1.2135 - accuracy: 0.5033 - val_loss: 1.2683 - val_accuracy: 0.4697\n",
      "Epoch 7/10\n",
      " - 1s - loss: 1.2204 - accuracy: 0.4967 - val_loss: 1.3373 - val_accuracy: 0.4195\n",
      "Epoch 8/10\n",
      " - 1s - loss: 1.2232 - accuracy: 0.4874 - val_loss: 1.3115 - val_accuracy: 0.4459\n",
      "Epoch 9/10\n",
      " - 1s - loss: 1.2337 - accuracy: 0.4821 - val_loss: 1.2815 - val_accuracy: 0.3958\n",
      "Epoch 10/10\n",
      " - 1s - loss: 1.1687 - accuracy: 0.5271 - val_loss: 1.2164 - val_accuracy: 0.4776\n",
      "Saved trained model at /Users/beemolin/Sites/3ML/TF_Flower/saved_models/keras_flower_trained_model.h5 \n",
      "test after load:  [0 4]\n"
     ]
    },
    {
     "data": {
      "image/png": "[encoded data removed]",
      "text/plain": [
       "<Figure size 864x1008 with 2 Axes>"
      ]
     },
     "metadata": {},
     "output_type": "display_data"
    },
    {
     "data": {
      "image/png": "[encoded data removed]",
      "text/plain": [
       "<Figure size 432x288 with 1 Axes>"
      ]
     },
     "metadata": {
      "needs_background": "light"
     },
     "output_type": "display_data"
    },
    {
     "data": {
      "image/png": "[encoded data removed]",
      "text/plain": [
       "<Figure size 432x288 with 1 Axes>"
      ]
     },
     "metadata": {
      "needs_background": "light"
     },
     "output_type": "display_data"
    },
    {
     "name": "stdout",
     "output_type": "stream",
     "text": [
      "932/932 [==============================] - 0s 272us/step\n"
     ]
    },
    {
     "data": {
      "text/plain": [
       "0.5300429463386536"
      ]
     },
     "execution_count": 3,
     "metadata": {},
     "output_type": "execute_result"
    }
   ],
   "source": [
    "from keras.models import Sequential\n",
    "from keras.layers import Dense,Dropout,Flatten,Conv2D,MaxPooling2D\n",
    "\n",
    "import os\n",
    "save_dir = os.path.join(os.getcwd(), 'saved_models')\n",
    "model_name = 'keras_flower_trained_model.h5'\n",
    "model_path = os.path.join(save_dir, model_name)\n",
    "\n",
    "model = Sequential()\n",
    "\n",
    "#filter為16, Kernel size為(5,5),Padding為(same), 圖片大小 (28,28,1)\n",
    "filters = 16\n",
    "kernel_size = (5,5)\n",
    "input_shape = (32, 32, 3)\n",
    "model.add(Conv2D(filters=filters,\n",
    "                 kernel_size=kernel_size,\n",
    "                 padding='same',\n",
    "                 input_shape=input_shape, \n",
    "                 activation='relu'))\n",
    "\n",
    "# MaxPooling(取最大值) size為(2,2)\n",
    "model.add(MaxPooling2D(pool_size=(2, 2)))\n",
    "\n",
    "model.add(Conv2D(filters=36,\n",
    "                 kernel_size=(5,5),\n",
    "                 padding='same',\n",
    "                 activation='relu'))\n",
    "\n",
    "model.add(MaxPooling2D(pool_size=(2, 2)))\n",
    "\n",
    "# Drop掉部分神經元避免overfitting\n",
    "model.add(Dropout(0.25))\n",
    "\n",
    "# 平坦化\n",
    "model.add(Flatten())\n",
    "\n",
    "model.add(Dense(128, activation='relu'))\n",
    "\n",
    "model.add(Dropout(0.5))\n",
    "\n",
    "model.add(Dense(5,activation='softmax'))\n",
    "\n",
    "print(model.summary())\n",
    "\n",
    "model.compile(loss='categorical_crossentropy', optimizer='adam',metrics=['accuracy'])\n",
    "\n",
    "train_history=model.fit(x=x_train, \n",
    "                        y=y_TrainOneHot,validation_split=0.2, \n",
    "                        epochs=10, batch_size=300,verbose=2)\n",
    "\n",
    "\n",
    "## Save model and weights\n",
    "if not os.path.isdir(save_dir):\n",
    "    os.makedirs(save_dir)\n",
    "model.save(model_path)\n",
    "print('Saved trained model at %s ' % model_path)\n",
    "\n",
    "\n",
    "## load model and weights\n",
    "# from keras.models import load_model\n",
    "# model = load_model(model_path)\n",
    "\n",
    "import matplotlib.pyplot as plt\n",
    "def plot_images_labels_prediction(images,labels,\n",
    "                                  prediction,idx,num=10):\n",
    "    fig = plt.gcf()\n",
    "    fig.set_size_inches(12, 14)\n",
    "    if num>25: num=25 \n",
    "    for i in range(0, num):\n",
    "        ax=plt.subplot(5,5, 1+i)\n",
    "        ax.imshow(images[idx], cmap='binary')\n",
    "        title= \"label=\" +str(labels[idx])\n",
    "        if len(prediction)>0:\n",
    "            title+=\",predict=\"+str(prediction[idx]) \n",
    "            \n",
    "        ax.set_title(title,fontsize=10) \n",
    "        ax.set_xticks([]);ax.set_yticks([])        \n",
    "        idx+=1 \n",
    "    plt.show()\n",
    "\n",
    "    \n",
    "# x_train, x_valid, y_train, y_valid\n",
    "prediction = model.predict_classes(x_valid[0:2])\n",
    "print('test after load: ', prediction)\n",
    "plot_images_labels_prediction(x_valid[0:2],y_valid[0:2],prediction,0,2)\n",
    "\n",
    "import matplotlib.pyplot as plt\n",
    "def show_train_history(train_acc,test_acc):\n",
    "    plt.plot(train_history.history[train_acc])\n",
    "    plt.plot(train_history.history[test_acc])\n",
    "    plt.title('Train History')\n",
    "    plt.ylabel('Accuracy')\n",
    "    plt.xlabel('Epoch')\n",
    "    plt.legend([train_acc, test_acc], loc='upper left')\n",
    "    plt.show()\n",
    "    \n",
    "show_train_history('accuracy','val_accuracy')\n",
    "\n",
    "show_train_history('loss','val_loss')\n",
    "\n",
    "scores = model.evaluate(x_valid , y_TestOneHot)\n",
    "scores[1]\n",
    "\n",
    "\n",
    "# 進去預測要做過 normalize\n",
    "# prediction=model.predict_classes(x_Test4D_normalize)\n",
    "# prediction[:10]"
   ]
  },
  {
   "cell_type": "code",
   "execution_count": null,
   "metadata": {},
   "outputs": [],
   "source": []
  }
 ],
 "metadata": {
  "kernelspec": {
   "display_name": "Python 3",
   "language": "python",
   "name": "python3"
  },
  "language_info": {
   "codemirror_mode": {
    "name": "ipython",
    "version": 3
   },
   "file_extension": ".py",
   "mimetype": "text/x-python",
   "name": "python",
   "nbconvert_exporter": "python",
   "pygments_lexer": "ipython3",
   "version": "3.7.3"
  }
 },
 "nbformat": 4,
 "nbformat_minor": 2
}
